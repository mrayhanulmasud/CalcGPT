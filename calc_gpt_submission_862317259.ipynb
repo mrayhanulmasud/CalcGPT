{
 "cells": [
  {
   "cell_type": "code",
   "execution_count": 10,
   "id": "66b36467",
   "metadata": {},
   "outputs": [],
   "source": [
    "import torch as t\n",
    "from transformers import AutoModelForCausalLM, AutoTokenizer\n",
    "import matplotlib.pyplot as plt\n",
    "import time\n",
    "import numpy as np\n",
    "import sklearn\n",
    "import pickle\n",
    "import re\n",
    "\n",
    "import seaborn as sns\n",
    "import matplotlib.pyplot as plt\n",
    "import pandas as pd\n",
    "\n",
    "from sklearn import svm\n",
    "from sklearn.metrics import accuracy_score"
   ]
  },
  {
   "cell_type": "code",
   "execution_count": 11,
   "id": "e8d07cd6",
   "metadata": {},
   "outputs": [],
   "source": [
    "def create_dataset(i_start=0, i_end=50, operation=t.add):\n",
    "    \"\"\"(1 pt) Create a dataset of pairs of numbers to calculate an operation on.\n",
    "    DO NOT USE A FOR LOOP. Use pytorch functions, possibilities include meshgrid, stack, reshape, repeat, tile.\n",
    "    (Note you'll have to use for loops on string stuff in other functions)\n",
    "\n",
    "    The dataset should be a tuple of two tensors, X and y, where X is a Nx2 tensor of numbers to add,\n",
    "    and y is a N tensor of the correct answers.\n",
    "    E.g., if i_start=0, i_end=2, then X should be tensor([[0,0,1,1],[0,1,0,1]]).T and y should be tensor([0,1,1,2]).\n",
    "    I recommend doing all pairs of sums involving 0-49, but you may modify this.\n",
    "    \"\"\"\n",
    "    # TODO\n",
    "\n",
    "    first_operand, second_operand = t.meshgrid(t.arange(i_start, i_end), \n",
    "                                                t.arange(i_start, i_end))\n",
    "    first_operand = t.reshape(first_operand, (-1,))\n",
    "    second_operand = t.reshape(second_operand, (-1,))\n",
    "    \n",
    "    X = t.stack([first_operand, second_operand])\n",
    "    \n",
    "    if operation == t.add:\n",
    "        y = first_operand + second_operand\n",
    "    elif operation == t.mul:\n",
    "        y = first_operand * second_operand\n",
    "    \n",
    "    return X, y"
   ]
  },
  {
   "cell_type": "code",
   "execution_count": null,
   "id": "4a9bb8a9",
   "metadata": {},
   "outputs": [],
   "source": []
  },
  {
   "cell_type": "code",
   "execution_count": 12,
   "id": "c2584a91",
   "metadata": {},
   "outputs": [],
   "source": [
    "def load_LLM(default=\"EleutherAI/gpt-neo-2.7B\", device='cpu'):\n",
    "    \"\"\"(1 pt) Load a pretrained LLM and put on device. Default choice is a large-ish GPT-neo-2.7B model on Huggingface.\n",
    "    Could also consider the \"open GPT\" from facebook: \"facebook/opt-2.7b\", or others\n",
    "    here: https://huggingface.co/models?pipeline_tag=text-generation\n",
    "    Explicitly load model and tokenizer, don't use the huggingface \"pipeline\" which hides details of the model\n",
    "    (and it also has no batch processing, which we need here)\n",
    "    \"\"\"\n",
    "    # TODO\n",
    "    tokenizer = AutoTokenizer.from_pretrained(default)\n",
    "    model = AutoModelForCausalLM.from_pretrained(default).to(device)\n",
    "    \n",
    "    return model, tokenizer"
   ]
  },
  {
   "cell_type": "code",
   "execution_count": 13,
   "id": "8c72ff07",
   "metadata": {},
   "outputs": [],
   "source": [
    "def encode_problems(X, prompt_prefix=None, strategy='baseline', operation=t.add):\n",
    "    \"\"\"(1 pts) Encode the problems as strings. For example, if X is [[0,0,1,1],[0,1,0,1]],\n",
    "    then the baseline output should be [\"0+0=\", \"0+1=\", \"1+0=\", \"1+1=\"]\"\"\"\n",
    "    \n",
    "    if operation==t.add:\n",
    "        operator = \"+\"\n",
    "    elif operation==t.mul:\n",
    "        operator = \"*\"\n",
    "        \n",
    "    output_strings = []\n",
    "    if strategy == 'baseline':\n",
    "        # TODO: encode_string =\n",
    "        output_strings = [ str(X[0][idx].item()) + operator + str(X[1][idx].item()) + \"=\"  \\\n",
    "                              for idx in range(len(X[0])) ]\n",
    "    else:\n",
    "        # TODO: encode_string =\n",
    "        output_strings = [ prompt_prefix + str(X[0][idx].item()) + operator + str(X[1][idx].item()) + \"=\"  \\\n",
    "                              for idx in range(len(X[0])) ]\n",
    "\n",
    "    return output_strings"
   ]
  },
  {
   "cell_type": "code",
   "execution_count": 14,
   "id": "319b5822",
   "metadata": {},
   "outputs": [],
   "source": [
    "def generate_text(model, tokenizer, prompts, verbose=True, device='cpu'):\n",
    "    \"\"\"(3 pts) Complete the prompt using the LLM.\n",
    "    1. Tokenize the prompts: https://huggingface.co/docs/transformers/preprocessing\n",
    "        Put data and model on device to speed up computations\n",
    "        (Note that in real life, you'd use a dataloader to do this efficiently in the background during training.)\n",
    "\n",
    "    2. Generate text using the model.\n",
    "        Turn off gradient tracking to save memory.\n",
    "        Determine the sampling hyper-parameters.\n",
    "        You may need to do it in batches, depending on memory constraints\n",
    "\n",
    "    3. Use the tokenizer to decode the output.\n",
    "    You will need to optionally print out the tokenization of the input and output strings for use in the write-up.\n",
    "    \"\"\"\n",
    "    t0 = time.time()\n",
    "    pad_token_id = tokenizer.eos_token_id\n",
    "    # TODO: turn off gradient tracking\n",
    "    with t.no_grad():\n",
    "        output_strings = []\n",
    "        for prompt in prompts:\n",
    "            # TODO: tokenize\n",
    "            tokenized_prompt = tokenizer.encode(prompt, return_tensors=\"pt\").to(device)\n",
    "            max_length = len(tokenized_prompt) + 50\n",
    "            \n",
    "            # TODO: generate text\n",
    "            tokenized_generated_text = model.generate(tokenized_prompt, do_sample=False, temperature=0.0001,\n",
    "                                                     max_length=max_length, pad_token_id=pad_token_id)\n",
    "            \n",
    "            # TODO: decode output, output_strings = ...\n",
    "            output_strings.append(tokenizer.decode(tokenized_generated_text[0]))\n",
    "    if verbose:\n",
    "        # TODO: print example tokenization for write-up\n",
    "        print()\n",
    "        \n",
    "    print(\"Time to generate text: \", time.time() - t0)  # It took 4 minutes to do 25000 prompts on an NVIDIA 1080Ti.\n",
    "    return output_strings"
   ]
  },
  {
   "cell_type": "code",
   "execution_count": 15,
   "id": "ce179289",
   "metadata": {},
   "outputs": [],
   "source": [
    "import re\n",
    "\n",
    "def decode_output(output_strings, strategy='baseline', verbose=True):\n",
    "    \"\"\"(1 pt) Decode the output strings into a list of integers. Use \"t.nan\" for failed responses.\n",
    "    One suggestion is to split on non-numeric characters, then convert to int. And use try/except to catch errors.\n",
    "    \"\"\"\n",
    "    \n",
    "    non_math_symbol_regex = re.compile(r\"[^0-9+\\-*/= ]\")\n",
    "\n",
    "    y_hat = []\n",
    "    for s in output_strings:\n",
    "        # TODO: y = f(s)\n",
    "        try:\n",
    "            split_idx = len(s)\n",
    "            match = non_math_symbol_regex.search(s)\n",
    "            if match:\n",
    "                split_idx = match.start()\n",
    "            \n",
    "            y = int(s[:split_idx].strip())\n",
    "            \n",
    "        except:\n",
    "            y = t.nan\n",
    "        y_hat.append(y)\n",
    "    return y_hat"
   ]
  },
  {
   "cell_type": "code",
   "execution_count": 16,
   "id": "3d9c3d30",
   "metadata": {},
   "outputs": [],
   "source": [
    "def analyze_results(X, y, y_hats, strategies):\n",
    "    \"\"\"(3 pts) Analyze the results.\n",
    "    Output the accuracy of each strategy.\n",
    "    Plot a scatter plot of the problems “x1+x2” with x1,x2 on each axis,\n",
    "    and different plot markers to indicate whether the answer from your LLM was correct.\n",
    "    (See write-up instructions for requirements on plots)\n",
    "    Train a classifier to predict whether the LLM gave the correct response (using scikit-learn, for example)\n",
    "    and plot the classifier boundary over the scatter plot with “contour”. (Use whatever classifier looks appropriate)\"\"\"\n",
    "    \n",
    "    # TODO\n",
    "    \n",
    "    # Creating dataframe\n",
    "    df = pd.DataFrame(\n",
    "        {'x1': X[0].numpy(),\n",
    "         'x2': X[1].numpy(),\n",
    "         'y': y.numpy(),\n",
    "         'y_hats': y_hats\n",
    "        })\n",
    "\n",
    "    # Calculating accuracy\n",
    "    df['correct/incorrect'] = df.apply(lambda row: 'correct' if row['y'] == row['y_hats'] else 'incorrect', axis=1)\n",
    "    accuracy = ((df[df['correct/incorrect']=='correct'].shape[0]/df.shape[0]))\n",
    "    print(\"Accuracy of the strategy\", strategies, \":\", round(accuracy, 3), \"%\")\n",
    "    \n",
    "    # Train a classifier on the data\n",
    "    clf = svm.SVC(kernel='linear')\n",
    "    clf.fit(df[['x1', 'x2']], df['y'])\n",
    "    Z = clf.predict(df[['x1', 'x2']])\n",
    "    print('Accuracy using classifier:', accuracy_score(df['y'], Z))\n",
    "    \n",
    "    \n",
    "    # Creating data points for contours\n",
    "    # Get the minimum and maximum values of the two features in the training data\n",
    "    x1_min, x1_max = df['x1'].min() - 1, df['x1'].max() + 1\n",
    "    x2_min, x2_max = df['x2'].min() - 1, df['x2'].max() + 1\n",
    "\n",
    "    # Create a 2D grid using these minimum and maximum values with a step size\n",
    "    xx1, xx2 = np.meshgrid(np.arange(x1_min, x1_max),\n",
    "                         np.arange(x2_min, x2_max))\n",
    "\n",
    "    # Use the trained classifier to predict the class labels for each point in the grid\n",
    "    Z = clf.predict(np.c_[xx1.ravel(), xx2.ravel()])\n",
    "    Z = Z.reshape(xx1.shape)\n",
    "\n",
    "    with plt.style.context('seaborn-bright'):\n",
    "        \n",
    "        # plot the calculations\n",
    "        sns.lmplot(x='x1', y='x2', data=df, hue='correct/incorrect', fit_reg=False, legend=False, markers=[\"1\", \"x\"])\n",
    "        \n",
    "        # plot the contour\n",
    "        plt.contourf(xx1, xx2, Z, alpha=0.2)\n",
    "        \n",
    "        plt.legend(loc='best')\n",
    "        plt.xlabel('x1', fontweight='bold')\n",
    "        plt.ylabel('x2', fontweight='bold')\n",
    "        \n",
    "        if (df['x1'].max()+1 - df['x1'].min()) > 10:\n",
    "            plt.xticks(np.arange(df['x1'].min(), df['x1'].max()+1, (df['x1'].max()+1 - df['x1'].min())//10), \n",
    "                       fontweight='bold')\n",
    "            plt.yticks(np.arange(df['x2'].min(), df['x2'].max()+1, (df['x2'].max()+1 - df['x2'].min())//10), \n",
    "                       fontweight='bold')\n",
    "        else:\n",
    "            plt.xticks(np.arange(df['x1'].min(), df['x1'].max()+1, 1), \n",
    "                       fontweight='bold')\n",
    "            plt.yticks(np.arange(df['x2'].min(), df['x2'].max()+1, 1), \n",
    "                       fontweight='bold')\n",
    "            \n",
    "        plt.title(strategies, fontsize=22)\n",
    "        plt.savefig(strategies+'.png', bbox_inches='tight')"
   ]
  },
  {
   "cell_type": "code",
   "execution_count": 18,
   "id": "2885aa12",
   "metadata": {
    "scrolled": true
   },
   "outputs": [
    {
     "name": "stdout",
     "output_type": "stream",
     "text": [
      "Current run for: baseline\n",
      "\n",
      "Time to generate text:  654.0818054676056\n",
      "Accuracy of the strategy baseline : 0.4 %\n",
      "Accuracy using classifier: 0.84\n"
     ]
    },
    {
     "name": "stderr",
     "output_type": "stream",
     "text": [
      "/media/masud/5dec78b5-09e8-44c9-86f0-cc0f1a7bbc35/temp_dir/llama/lib/python3.9/site-packages/sklearn/base.py:420: UserWarning: X does not have valid feature names, but SVC was fitted with feature names\n",
      "  warnings.warn(\n"
     ]
    },
    {
     "name": "stdout",
     "output_type": "stream",
     "text": [
      "\n",
      "\n",
      "Current run for: new\n",
      "\n",
      "Time to generate text:  458.7597439289093\n",
      "Accuracy of the strategy new : 0.88 %\n",
      "Accuracy using classifier: 0.84\n"
     ]
    },
    {
     "name": "stderr",
     "output_type": "stream",
     "text": [
      "/media/masud/5dec78b5-09e8-44c9-86f0-cc0f1a7bbc35/temp_dir/llama/lib/python3.9/site-packages/sklearn/base.py:420: UserWarning: X does not have valid feature names, but SVC was fitted with feature names\n",
      "  warnings.warn(\n"
     ]
    },
    {
     "name": "stdout",
     "output_type": "stream",
     "text": [
      "\n",
      "\n"
     ]
    },
    {
     "data": {
      "image/png": "[encoded data removed]",
      "text/plain": [
       "<Figure size 500x500 with 1 Axes>"
      ]
     },
     "metadata": {},
     "output_type": "display_data"
    },
    {
     "data": {
      "image/png": "[encoded data removed]",
      "text/plain": [
       "<Figure size 500x500 with 1 Axes>"
      ]
     },
     "metadata": {},
     "output_type": "display_data"
    }
   ],
   "source": [
    "if __name__ == \"__main__\":\n",
    "    \n",
    "    device = t.device(\"cuda\" if t.cuda.is_available() else \"cpu\")  # Use GPU if available\n",
    "    device = t.device('mps') if t.backends.mps.is_available() else device  # Use Apple's Metal backend if available\n",
    "\n",
    "    operation = t.add\n",
    "    X, y = create_dataset(0,5, operation)\n",
    "    model, tokenizer = load_LLM(device=device)\n",
    "    \n",
    "    y_hats = []  # list of lists of predicted answers, y_hat, for each strategy\n",
    "    strategies = ['baseline', 'new']\n",
    "    \n",
    "    for strategy in strategies:\n",
    "        \n",
    "        print(\"Current run for:\", strategy)\n",
    "        if strategy == 'baseline':\n",
    "            prompt_prefix = None\n",
    "        else:\n",
    "            if operation == t.add:\n",
    "                prompt_prefix = \"You are a calculator. Please calculate: 1+2=3, 3+4=7, 11+32=43,\"\n",
    "            elif operation == t.mul:\n",
    "                prompt_prefix = \"You are a calculator. Please calculate: 1*2=2, 3*4=12, 11*12=132,\"\n",
    "                \n",
    "        input_strings = encode_problems(X, strategy=strategy, prompt_prefix=prompt_prefix, operation=operation)\n",
    "        output_strings = generate_text(model, tokenizer, input_strings, device=device)\n",
    "        \n",
    "#         print(input_strings)\n",
    "#         print(output_strings)\n",
    "        \n",
    "        output_strings = [out_s[len(in_s):] for in_s, out_s in zip(input_strings, output_strings)]  # Remove the input string from generated answer\n",
    "        y_hats = (decode_output(output_strings, strategy=strategy))\n",
    "        \n",
    "        \n",
    "        analyze_results(X, y, y_hats, strategy)\n",
    "        \n",
    "        print()\n",
    "        print()"
   ]
  },
  {
   "cell_type": "code",
   "execution_count": null,
   "id": "4abe6a79",
   "metadata": {},
   "outputs": [],
   "source": []
  }
 ],
 "metadata": {
  "kernelspec": {
   "display_name": "Python 3",
   "language": "python",
   "name": "python3"
  },
  "language_info": {
   "codemirror_mode": {
    "name": "ipython",
    "version": 3
   },
   "file_extension": ".py",
   "mimetype": "text/x-python",
   "name": "python",
   "nbconvert_exporter": "python",
   "pygments_lexer": "ipython3",
   "version": "3.9.16"
  }
 },
 "nbformat": 4,
 "nbformat_minor": 5
}
